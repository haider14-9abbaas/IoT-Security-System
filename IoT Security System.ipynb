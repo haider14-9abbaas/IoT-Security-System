{
  "nbformat": 4,
  "nbformat_minor": 0,
  "metadata": {
    "colab": {
      "provenance": [],
      "authorship_tag": "ABX9TyMfK0OdIqm/KOquadNJeW+g",
      "include_colab_link": true
    },
    "kernelspec": {
      "name": "python3",
      "display_name": "Python 3"
    },
    "language_info": {
      "name": "python"
    }
  },
  "cells": [
    {
      "cell_type": "markdown",
      "metadata": {
        "id": "view-in-github",
        "colab_type": "text"
      },
      "source": [
        "<a href=\"https://colab.research.google.com/github/haider14-9abbaas/IoT-Security-System/blob/main/IoT%20Security%20System.ipynb\" target=\"_parent\"><img src=\"https://colab.research.google.com/assets/colab-badge.svg\" alt=\"Open In Colab\"/></a>"
      ]
    },
    {
      "cell_type": "code",
      "execution_count": null,
      "metadata": {
        "colab": {
          "base_uri": "https://localhost:8080/"
        },
        "id": "Afh6vV2fqONg",
        "outputId": "9ff62408-2cf3-446c-f14a-cfd831848a2b",
        "collapsed": true
      },
      "outputs": [
        {
          "output_type": "stream",
          "name": "stdout",
          "text": [
            "Requirement already satisfied: cryptography in /usr/local/lib/python3.10/dist-packages (43.0.3)\n",
            "Requirement already satisfied: cffi>=1.12 in /usr/local/lib/python3.10/dist-packages (from cryptography) (1.17.1)\n",
            "Requirement already satisfied: pycparser in /usr/local/lib/python3.10/dist-packages (from cffi>=1.12->cryptography) (2.22)\n"
          ]
        }
      ],
      "source": [
        "# Install the cryptography library\n",
        "!pip install cryptography\n"
      ]
    },
    {
      "cell_type": "code",
      "source": [],
      "metadata": {
        "id": "_VLmtn6Rt6Gn"
      },
      "execution_count": null,
      "outputs": []
    },
    {
      "cell_type": "code",
      "source": [
        "from cryptography.hazmat.primitives.asymmetric import rsa\n",
        "from cryptography.hazmat.primitives import serialization\n",
        "\n",
        "# Generate RSA private key\n",
        "private_key = rsa.generate_private_key(public_exponent=65537, key_size=2048)\n",
        "\n",
        "# Serialize private key\n",
        "private_key_pem = private_key.private_bytes(\n",
        "    encoding=serialization.Encoding.PEM,\n",
        "    format=serialization.PrivateFormat.PKCS8,\n",
        "    encryption_algorithm=serialization.NoEncryption()\n",
        ")\n",
        "\n",
        "# Generate public key\n",
        "public_key = private_key.public_key()\n",
        "\n",
        "# Serialize public key\n",
        "public_key_pem = public_key.public_bytes(\n",
        "    encoding=serialization.Encoding.PEM,\n",
        "    format=serialization.PublicFormat.SubjectPublicKeyInfo\n",
        ")\n",
        "\n",
        "# Save keys to files\n",
        "with open(\"root_private_key.pem\", \"wb\") as f:\n",
        "    f.write(private_key_pem)\n",
        "\n",
        "with open(\"root_public_key.pem\", \"wb\") as f:\n",
        "    f.write(public_key_pem)\n",
        "\n",
        "print(\"Root CA private and public keys generated and saved.\")\n"
      ],
      "metadata": {
        "colab": {
          "base_uri": "https://localhost:8080/"
        },
        "id": "VtgXn9zZrSR0",
        "outputId": "db7cb030-c434-452a-dbc5-7fbebca9590a",
        "collapsed": true
      },
      "execution_count": null,
      "outputs": [
        {
          "output_type": "stream",
          "name": "stdout",
          "text": [
            "Root CA private and public keys generated and saved.\n"
          ]
        }
      ]
    },
    {
      "cell_type": "code",
      "source": [],
      "metadata": {
        "id": "2iYPv7aCwK36"
      },
      "execution_count": null,
      "outputs": []
    },
    {
      "cell_type": "code",
      "source": [
        "import time\n",
        "\n",
        "print(\"Simulating certificate issuance...\")\n",
        "\n",
        "# Example certificates\n",
        "devices = [\"light-sensor.smarthome.com\", \"user.smarthome.com\"]\n",
        "for device in devices:\n",
        "    print(f\"Generating certificate for {device}...\")\n",
        "    # Simulate certificate creation\n",
        "    time.sleep(1)  # Simulate processing time\n",
        "    print(f\"Certificate for {device} generated and signed by Root CA.\")\n",
        "\n"
      ],
      "metadata": {
        "colab": {
          "base_uri": "https://localhost:8080/"
        },
        "id": "UXBGnCoLrXlC",
        "outputId": "12ebd773-63f0-4847-bdde-4759a28fe5e2",
        "collapsed": true
      },
      "execution_count": null,
      "outputs": [
        {
          "output_type": "stream",
          "name": "stdout",
          "text": [
            "Simulating certificate issuance...\n",
            "Generating certificate for light-sensor.smarthome.com...\n",
            "Certificate for light-sensor.smarthome.com generated and signed by Root CA.\n",
            "Generating certificate for user.smarthome.com...\n",
            "Certificate for user.smarthome.com generated and signed by Root CA.\n"
          ]
        }
      ]
    },
    {
      "cell_type": "code",
      "source": [
        "from cryptography.hazmat.primitives.ciphers import Cipher, algorithms, modes\n",
        "import os\n",
        "\n",
        "# Sensor data\n",
        "plaintext = b\"Sensor data: Temperature = 22.5C, Humidity = 45%.\"\n",
        "\n",
        "# Generate AES key and IV\n",
        "key = os.urandom(32)  # 256-bit key\n",
        "iv = os.urandom(16)   # 128-bit IV\n",
        "\n",
        "# Encrypt data\n",
        "cipher = Cipher(algorithms.AES(key), modes.CFB(iv))\n",
        "encryptor = cipher.encryptor()\n",
        "ciphertext = encryptor.update(plaintext) + encryptor.finalize()\n",
        "\n",
        "print(\"Original plaintext:\", plaintext)\n",
        "print(\"Ciphertext:\", ciphertext)\n",
        "\n",
        "# Decrypt data\n",
        "decryptor = cipher.decryptor()\n",
        "decrypted_text = decryptor.update(ciphertext) + decryptor.finalize()\n",
        "print(\"Decrypted plaintext:\", decrypted_text)\n"
      ],
      "metadata": {
        "colab": {
          "base_uri": "https://localhost:8080/"
        },
        "id": "FkqLPw9_rqzo",
        "outputId": "a7a482e4-b5a9-41de-eec0-1b8bb373efa6"
      },
      "execution_count": null,
      "outputs": [
        {
          "output_type": "stream",
          "name": "stdout",
          "text": [
            "Original plaintext: b'Sensor data: Temperature = 22.5C, Humidity = 45%.'\n",
            "Ciphertext: b'\\x83\\xccCO\\xf5\\x91\\xda\\xf1d!&\\x1e\\xd81\\xb3>\\xb3\\xcdzZwR\\x994\\x12\\xcd\\xb7L\\xc4\\x95\\x91I\\xbb\\x1d\\x1d\\xd7\\x1d\\n\\x95\\x954\\xdd\\xc8\\x1d\\x85\\xebOH)'\n",
            "Decrypted plaintext: b'Sensor data: Temperature = 22.5C, Humidity = 45%.'\n"
          ]
        }
      ]
    },
    {
      "cell_type": "code",
      "source": [
        "from cryptography.hazmat.primitives import hashes\n",
        "\n",
        "# Create SHA-256 hash\n",
        "digest = hashes.Hash(hashes.SHA256())\n",
        "digest.update(plaintext)\n",
        "data_hash = digest.finalize()\n",
        "\n",
        "print(\"Data hash (SHA-256):\", data_hash.hex())\n"
      ],
      "metadata": {
        "colab": {
          "base_uri": "https://localhost:8080/"
        },
        "id": "2IlBT8MirxUC",
        "outputId": "5c36a500-3afe-40fc-d371-99e9dc39bd60",
        "collapsed": true
      },
      "execution_count": null,
      "outputs": [
        {
          "output_type": "stream",
          "name": "stdout",
          "text": [
            "Data hash (SHA-256): df75caedbf1fbe93eea2bd340b227a8dc16c6700d9b101a2ae94c4dbef3fb6e7\n"
          ]
        }
      ]
    },
    {
      "cell_type": "code",
      "source": [
        "import time\n",
        "\n",
        "# Generate timestamp and nonce\n",
        "timestamp = int(time.time())\n",
        "nonce = os.urandom(16).hex()\n",
        "\n",
        "print(\"Generated timestamp:\", timestamp)\n",
        "print(\"Generated nonce:\", nonce)\n"
      ],
      "metadata": {
        "colab": {
          "base_uri": "https://localhost:8080/"
        },
        "id": "ZBYjvK-4r5XS",
        "outputId": "ec515d83-70eb-46d3-e2d0-ec114674d9d1",
        "collapsed": true
      },
      "execution_count": null,
      "outputs": [
        {
          "output_type": "stream",
          "name": "stdout",
          "text": [
            "Generated timestamp: 1736839289\n",
            "Generated nonce: 5c66bcf4711c356e126f1692c609078f\n"
          ]
        }
      ]
    },
    {
      "cell_type": "code",
      "source": [
        "print(\"Simulating mutual authentication...\")\n",
        "\n",
        "# Example validation process\n",
        "device_certificate_valid = True  # Simulating certificate validity check\n",
        "\n",
        "if device_certificate_valid:\n",
        "    print(\"Authentication successful: Device certificate is valid and signed by Root CA.\")\n",
        "else:\n",
        "    print(\"Authentication failed: Invalid device certificate.\")\n"
      ],
      "metadata": {
        "colab": {
          "base_uri": "https://localhost:8080/"
        },
        "id": "Uqh4o633r9F6",
        "outputId": "d95e843f-a168-4a53-ad78-7af51f494935",
        "collapsed": true
      },
      "execution_count": null,
      "outputs": [
        {
          "output_type": "stream",
          "name": "stdout",
          "text": [
            "Simulating mutual authentication...\n",
            "Authentication successful: Device certificate is valid and signed by Root CA.\n"
          ]
        }
      ]
    },
    {
      "cell_type": "code",
      "source": [
        "import os\n",
        "import time\n",
        "from cryptography.hazmat.primitives import hashes\n",
        "from cryptography.hazmat.primitives.ciphers import Cipher, algorithms, modes\n",
        "\n",
        "# Initialize devices and data\n",
        "devices = [\"temperature-sensor.smarthome.com\", \"light-sensor.smarthome.com\", \"cleaning-sensor.smarthome.com\"]\n",
        "sensor_data = {}\n",
        "\n",
        "# Function to simulate certificate issuance\n",
        "def issue_certificate(devices):\n",
        "    print(\"\\nSimulating certificate issuance for devices...\")\n",
        "    for device in devices:\n",
        "        print(f\"Generating certificate for {device}...\")\n",
        "        time.sleep(1)  # Simulate processing time\n",
        "        print(f\"Certificate for {device} generated and signed by Root CA.\")\n",
        "\n",
        "# Function to add a new device\n",
        "def add_device():\n",
        "    device_name = input(\"Enter the new device name (e.g., 'motion-sensor.smarthome.com'): \")\n",
        "    if device_name not in devices:\n",
        "        devices.append(device_name)\n",
        "        print(f\"Device '{device_name}' added successfully.\")\n",
        "    else:\n",
        "        print(\"Device already exists!\")\n",
        "\n",
        "# Function to input sensor data\n",
        "def input_sensor_data():\n",
        "    for device in devices:\n",
        "        data = input(f\"Enter data for {device} (e.g., 'Temperature = 24C'): \").encode()\n",
        "        sensor_data[device] = data\n",
        "    print(\"Sensor data recorded.\")\n",
        "\n",
        "# Function to secure communication (AES encryption)\n",
        "def secure_communication():\n",
        "    print(\"\\nSecuring communication for devices...\")\n",
        "    for device, data in sensor_data.items():\n",
        "        print(f\"\\nEncrypting data for {device}...\")\n",
        "        key = os.urandom(32)  # 256-bit AES key\n",
        "        iv = os.urandom(16)   # 128-bit IV\n",
        "\n",
        "        # Encrypt data\n",
        "        cipher = Cipher(algorithms.AES(key), modes.CFB(iv))\n",
        "        encryptor = cipher.encryptor()\n",
        "        ciphertext = encryptor.update(data) + encryptor.finalize()\n",
        "\n",
        "        print(f\"Ciphertext for {device}: {ciphertext}\")\n",
        "\n",
        "        # Decrypt data\n",
        "        decryptor = cipher.decryptor()\n",
        "        decrypted_text = decryptor.update(ciphertext) + decryptor.finalize()\n",
        "        print(f\"Decrypted plaintext for {device}: {decrypted_text}\")\n",
        "\n",
        "# Function to ensure data integrity\n",
        "def ensure_data_integrity():\n",
        "    print(\"\\nEnsuring data integrity for devices...\")\n",
        "    for device, data in sensor_data.items():\n",
        "        digest = hashes.Hash(hashes.SHA256())\n",
        "        digest.update(data)\n",
        "        data_hash = digest.finalize()\n",
        "        print(f\"Data hash for {device} (SHA-256): {data_hash.hex()}\")\n",
        "\n",
        "# Function to prevent replay attacks\n",
        "def prevent_replay_attacks():\n",
        "    print(\"\\nPreventing replay attacks for devices...\")\n",
        "    previous_timestamps = {}\n",
        "    previous_nonces = {}\n",
        "\n",
        "    for device in devices:\n",
        "        timestamp = int(time.time())\n",
        "        nonce = os.urandom(16).hex()\n",
        "\n",
        "        # Check for replay attack\n",
        "        if device in previous_timestamps and timestamp <= previous_timestamps[device]:\n",
        "            print(f\"Replay attack detected for {device}!\")\n",
        "        else:\n",
        "            previous_timestamps[device] = timestamp\n",
        "\n",
        "        if device in previous_nonces and nonce == previous_nonces[device]:\n",
        "            print(f\"Nonce reuse detected for {device}!\")\n",
        "        else:\n",
        "            previous_nonces[device] = nonce\n",
        "\n",
        "        print(f\"Device: {device} is secure.\")\n",
        "\n",
        "# Function to view logs\n",
        "def view_logs():\n",
        "    print(\"\\nActivity Logs:\")\n",
        "    for device, data in sensor_data.items():\n",
        "        log_entry = {\n",
        "            \"device\": device,\n",
        "            \"data\": data.decode(),\n",
        "            \"timestamp\": int(time.time()),\n",
        "            \"status\": \"Secure\"\n",
        "        }\n",
        "        print(log_entry)\n",
        "\n",
        "# Main menu\n",
        "def main_menu():\n",
        "    while True:\n",
        "        print(\"\\n===== IoT Security System =====\")\n",
        "        print(\"1. Issue Certificates\")\n",
        "        print(\"2. Add a New Device\")\n",
        "        print(\"3. Input Sensor Data\")\n",
        "        print(\"4. Secure Communication\")\n",
        "        print(\"5. Ensure Data Integrity\")\n",
        "        print(\"6. Prevent Replay Attacks\")\n",
        "        print(\"7. View Logs\")\n",
        "        print(\"8. Exit\")\n",
        "\n",
        "        choice = input(\"Enter your choice: \")\n",
        "        if choice == \"1\":\n",
        "            issue_certificate(devices)\n",
        "        elif choice == \"2\":\n",
        "            add_device()\n",
        "        elif choice == \"3\":\n",
        "            input_sensor_data()\n",
        "        elif choice == \"4\":\n",
        "            secure_communication()\n",
        "        elif choice == \"5\":\n",
        "            ensure_data_integrity()\n",
        "        elif choice == \"6\":\n",
        "            prevent_replay_attacks()\n",
        "        elif choice == \"7\":\n",
        "            view_logs()\n",
        "        elif choice == \"8\":\n",
        "            print(\"Exiting program.\")\n",
        "            break\n",
        "        else:\n",
        "            print(\"Invalid choice! Please try again.\")\n",
        "\n",
        "# Run the program\n",
        "main_menu()\n"
      ],
      "metadata": {
        "colab": {
          "base_uri": "https://localhost:8080/"
        },
        "id": "OPFtmPmmt75a",
        "outputId": "4c0d2f03-d55b-4e21-a804-b83a70f259b6",
        "collapsed": true
      },
      "execution_count": null,
      "outputs": [
        {
          "output_type": "stream",
          "name": "stdout",
          "text": [
            "\n",
            "===== IoT Security System =====\n",
            "1. Issue Certificates\n",
            "2. Add a New Device\n",
            "3. Input Sensor Data\n",
            "4. Secure Communication\n",
            "5. Ensure Data Integrity\n",
            "6. Prevent Replay Attacks\n",
            "7. View Logs\n",
            "8. Exit\n",
            "Enter your choice: 1\n",
            "\n",
            "Simulating certificate issuance for devices...\n",
            "Generating certificate for temperature-sensor.smarthome.com...\n",
            "Certificate for temperature-sensor.smarthome.com generated and signed by Root CA.\n",
            "Generating certificate for light-sensor.smarthome.com...\n",
            "Certificate for light-sensor.smarthome.com generated and signed by Root CA.\n",
            "Generating certificate for cleaning-sensor.smarthome.com...\n",
            "Certificate for cleaning-sensor.smarthome.com generated and signed by Root CA.\n",
            "\n",
            "===== IoT Security System =====\n",
            "1. Issue Certificates\n",
            "2. Add a New Device\n",
            "3. Input Sensor Data\n",
            "4. Secure Communication\n",
            "5. Ensure Data Integrity\n",
            "6. Prevent Replay Attacks\n",
            "7. View Logs\n",
            "8. Exit\n",
            "Enter your choice: 2\n",
            "Enter the new device name (e.g., 'motion-sensor.smarthome.com'): temperature-sensor.smarthome.com\n",
            "Device already exists!\n",
            "\n",
            "===== IoT Security System =====\n",
            "1. Issue Certificates\n",
            "2. Add a New Device\n",
            "3. Input Sensor Data\n",
            "4. Secure Communication\n",
            "5. Ensure Data Integrity\n",
            "6. Prevent Replay Attacks\n",
            "7. View Logs\n",
            "8. Exit\n",
            "Enter your choice: 3\n",
            "Enter data for temperature-sensor.smarthome.com (e.g., 'Temperature = 24C'): Temperature = 30C\n",
            "Enter data for light-sensor.smarthome.com (e.g., 'Temperature = 24C'): Light Intensity = 500 lux\n",
            "Enter data for cleaning-sensor.smarthome.com (e.g., 'Temperature = 24C'): Motion Detected = Yes\n",
            "Sensor data recorded.\n",
            "\n",
            "===== IoT Security System =====\n",
            "1. Issue Certificates\n",
            "2. Add a New Device\n",
            "3. Input Sensor Data\n",
            "4. Secure Communication\n",
            "5. Ensure Data Integrity\n",
            "6. Prevent Replay Attacks\n",
            "7. View Logs\n",
            "8. Exit\n",
            "Enter your choice: 4\n",
            "\n",
            "Securing communication for devices...\n",
            "\n",
            "Encrypting data for temperature-sensor.smarthome.com...\n",
            "Ciphertext for temperature-sensor.smarthome.com: b'r\\x8f\\xdb\\x1b0\\x9e18!\\xea7Xj;\\x11\\x8bH'\n",
            "Decrypted plaintext for temperature-sensor.smarthome.com: b'Temperature = 30C'\n",
            "\n",
            "Encrypting data for light-sensor.smarthome.com...\n",
            "Ciphertext for light-sensor.smarthome.com: b'u\\x84\\t\\\\@h\\xf90\\xab\\x86\\x10\\xf3\\xff\\x05\\x8a\\xe4\\xc7\\xe8\\x82\\x1e\\x8d\\xa9\\xf3\\xe1\\x82'\n",
            "Decrypted plaintext for light-sensor.smarthome.com: b'Light Intensity = 500 lux'\n",
            "\n",
            "Encrypting data for cleaning-sensor.smarthome.com...\n",
            "Ciphertext for cleaning-sensor.smarthome.com: b'W\\xb8\\xcf\\x81\\xf4\\xef\\x1b\\xca\\xa2\\xa8O\\x99-\\xf379\\x95_ O\\xf1'\n",
            "Decrypted plaintext for cleaning-sensor.smarthome.com: b'Motion Detected = Yes'\n",
            "\n",
            "===== IoT Security System =====\n",
            "1. Issue Certificates\n",
            "2. Add a New Device\n",
            "3. Input Sensor Data\n",
            "4. Secure Communication\n",
            "5. Ensure Data Integrity\n",
            "6. Prevent Replay Attacks\n",
            "7. View Logs\n",
            "8. Exit\n",
            "Enter your choice: 5\n",
            "\n",
            "Ensuring data integrity for devices...\n",
            "Data hash for temperature-sensor.smarthome.com (SHA-256): 49e2d185541fab37bba42b4e70bfac05d786e1d89d44cf749d843c75df5d73b3\n",
            "Data hash for light-sensor.smarthome.com (SHA-256): 7dc3006d4201d19549cdbe7a60ebb05350e5348d1f2a2945e896a1d7bf803801\n",
            "Data hash for cleaning-sensor.smarthome.com (SHA-256): 2c744028406a49d19596e72e5dfea36fe7113709134b27bad9fc3bac3a18d53d\n",
            "\n",
            "===== IoT Security System =====\n",
            "1. Issue Certificates\n",
            "2. Add a New Device\n",
            "3. Input Sensor Data\n",
            "4. Secure Communication\n",
            "5. Ensure Data Integrity\n",
            "6. Prevent Replay Attacks\n",
            "7. View Logs\n",
            "8. Exit\n",
            "Enter your choice: 6\n",
            "\n",
            "Preventing replay attacks for devices...\n",
            "Device: temperature-sensor.smarthome.com is secure.\n",
            "Device: light-sensor.smarthome.com is secure.\n",
            "Device: cleaning-sensor.smarthome.com is secure.\n",
            "\n",
            "===== IoT Security System =====\n",
            "1. Issue Certificates\n",
            "2. Add a New Device\n",
            "3. Input Sensor Data\n",
            "4. Secure Communication\n",
            "5. Ensure Data Integrity\n",
            "6. Prevent Replay Attacks\n",
            "7. View Logs\n",
            "8. Exit\n",
            "Enter your choice: 7\n",
            "\n",
            "Activity Logs:\n",
            "{'device': 'temperature-sensor.smarthome.com', 'data': 'Temperature = 30C', 'timestamp': 1736840755, 'status': 'Secure'}\n",
            "{'device': 'light-sensor.smarthome.com', 'data': 'Light Intensity = 500 lux', 'timestamp': 1736840755, 'status': 'Secure'}\n",
            "{'device': 'cleaning-sensor.smarthome.com', 'data': 'Motion Detected = Yes', 'timestamp': 1736840755, 'status': 'Secure'}\n",
            "\n",
            "===== IoT Security System =====\n",
            "1. Issue Certificates\n",
            "2. Add a New Device\n",
            "3. Input Sensor Data\n",
            "4. Secure Communication\n",
            "5. Ensure Data Integrity\n",
            "6. Prevent Replay Attacks\n",
            "7. View Logs\n",
            "8. Exit\n",
            "Enter your choice: 8\n",
            "Exiting program.\n"
          ]
        }
      ]
    }
  ]
}